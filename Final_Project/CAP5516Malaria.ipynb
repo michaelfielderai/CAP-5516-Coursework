{
  "nbformat": 4,
  "nbformat_minor": 0,
  "metadata": {
    "colab": {
      "provenance": [],
      "machine_shape": "hm"
    },
    "kernelspec": {
      "name": "python3",
      "display_name": "Python 3"
    },
    "language_info": {
      "name": "python"
    }
  },
  "cells": [
    {
      "cell_type": "code",
      "source": [
        "from google.colab import drive\n",
        "drive.mount('/content/drive')"
      ],
      "metadata": {
        "colab": {
          "base_uri": "https://localhost:8080/"
        },
        "id": "5NwTuunIOrnd",
        "outputId": "018de262-97da-46e5-9f52-3f9edac0ac64"
      },
      "execution_count": null,
      "outputs": [
        {
          "output_type": "stream",
          "name": "stdout",
          "text": [
            "Mounted at /content/drive\n"
          ]
        }
      ]
    },
    {
      "cell_type": "code",
      "source": [
        "!pip install Augmentor"
      ],
      "metadata": {
        "colab": {
          "base_uri": "https://localhost:8080/"
        },
        "id": "XEsejNxLFIXE",
        "outputId": "99f0bc43-16cc-48f5-c892-f5da81c403d6"
      },
      "execution_count": null,
      "outputs": [
        {
          "output_type": "stream",
          "name": "stdout",
          "text": [
            "Collecting Augmentor\n",
            "  Downloading Augmentor-0.2.9-py2.py3-none-any.whl (38 kB)\n",
            "Requirement already satisfied: tqdm>=4.9.0 in /usr/local/lib/python3.7/dist-packages (from Augmentor) (4.64.0)\n",
            "Requirement already satisfied: Pillow>=5.2.0 in /usr/local/lib/python3.7/dist-packages (from Augmentor) (7.1.2)\n",
            "Requirement already satisfied: numpy>=1.11.0 in /usr/local/lib/python3.7/dist-packages (from Augmentor) (1.21.6)\n",
            "Requirement already satisfied: future>=0.16.0 in /usr/local/lib/python3.7/dist-packages (from Augmentor) (0.16.0)\n",
            "Installing collected packages: Augmentor\n",
            "Successfully installed Augmentor-0.2.9\n"
          ]
        }
      ]
    },
    {
      "cell_type": "code",
      "execution_count": null,
      "metadata": {
        "id": "THxwy076NwhS"
      },
      "outputs": [],
      "source": [
        "import numpy as np\n",
        "from matplotlib import pyplot as plt\n",
        "import tensorflow as tf\n",
        "from tensorflow import keras\n",
        "import tensorflow_datasets as tfds\n",
        "from keras.applications.mobilenet import MobileNet\n",
        "import os\n",
        "from keras.preprocessing.image import ImageDataGenerator\n",
        "import glob"
      ]
    },
    {
      "cell_type": "code",
      "source": [
        "ROOT_PATH    = \"/content/drive/MyDrive/MalariaDatasetNEW\"\n",
        "NORMAL_PATH  = os.path.join(ROOT_PATH, 'NORMAL')\n",
        "MALARIA_PATH = os.path.join(ROOT_PATH, 'MALARIA')"
      ],
      "metadata": {
        "id": "3ovlwQYkSqD3"
      },
      "execution_count": null,
      "outputs": []
    },
    {
      "cell_type": "code",
      "source": [
        "TRAIN_PATH = os.path.join(ROOT_PATH, \"Train\")\n",
        "TEST_PATH  = os.path.join(ROOT_PATH, \"Test\")"
      ],
      "metadata": {
        "id": "5uaxcQiLVPR3"
      },
      "execution_count": null,
      "outputs": []
    },
    {
      "cell_type": "code",
      "source": [
        "NORMAL = glob.glob(ROOT_PATH+\"/NORMAL/*\") \n",
        "MALARIA = glob.glob(ROOT_PATH+\"/MALARIA/*\")\n",
        "\n",
        "len(NORMAL), len(MALARIA)"
      ],
      "metadata": {
        "id": "3i5pbVtkFBHG",
        "colab": {
          "base_uri": "https://localhost:8080/"
        },
        "outputId": "0b825d11-5390-4359-d4d1-b5f276436097"
      },
      "execution_count": null,
      "outputs": [
        {
          "output_type": "execute_result",
          "data": {
            "text/plain": [
              "(35810, 550)"
            ]
          },
          "metadata": {},
          "execution_count": 13
        }
      ]
    },
    {
      "cell_type": "code",
      "source": [
        "len(NORMAL)"
      ],
      "metadata": {
        "colab": {
          "base_uri": "https://localhost:8080/"
        },
        "id": "ANBWAq0rPf-S",
        "outputId": "abd62d9d-48f8-4294-c87c-83b551ddd62d"
      },
      "execution_count": null,
      "outputs": [
        {
          "output_type": "execute_result",
          "data": {
            "text/plain": [
              "35810"
            ]
          },
          "metadata": {},
          "execution_count": 7
        }
      ]
    },
    {
      "cell_type": "code",
      "source": [
        "normal_train_len = 1250\n",
        "normal_test_len = 500\n",
        "normal_tot_len = normal_train_len + normal_test_len\n",
        "\n",
        "normal_idxs = np.random.choice(len(NORMAL), normal_tot_len, replace=False)\n",
        "\n",
        "malaria_train_len = 525\n",
        "malaria_test_len = 25\n",
        "malaria_tot_len = malaria_train_len + malaria_test_len\n",
        "\n",
        "malaria_idxs = np.random.choice(len(MALARIA), malaria_tot_len, replace=False)"
      ],
      "metadata": {
        "id": "L0wTrOGOFpAd"
      },
      "execution_count": null,
      "outputs": []
    },
    {
      "cell_type": "code",
      "source": [
        "len(normal_idxs), len(malaria_idxs)"
      ],
      "metadata": {
        "colab": {
          "base_uri": "https://localhost:8080/"
        },
        "id": "7mFWxzcJSIdi",
        "outputId": "583a2f50-0c59-4b72-a0e4-04654489190a"
      },
      "execution_count": null,
      "outputs": [
        {
          "output_type": "execute_result",
          "data": {
            "text/plain": [
              "(1750, 550)"
            ]
          },
          "metadata": {},
          "execution_count": 10
        }
      ]
    },
    {
      "cell_type": "code",
      "source": [
        "target_path = os.path.join(TRAIN_PATH, \"MALARIA\")\n",
        "target_path = os.path.join(target_path, \"TEST\")\n",
        "target_path"
      ],
      "metadata": {
        "colab": {
          "base_uri": "https://localhost:8080/",
          "height": 37
        },
        "id": "cq5rHWN-VN-w",
        "outputId": "ba638d4a-3681-4aca-e6ed-596022f1a4e8"
      },
      "execution_count": null,
      "outputs": [
        {
          "output_type": "execute_result",
          "data": {
            "text/plain": [
              "'/content/drive/MyDrive/MalariaDatasetNEW/Train/MALARIA/TEST'"
            ],
            "application/vnd.google.colaboratory.intrinsic+json": {
              "type": "string"
            }
          },
          "metadata": {},
          "execution_count": 31
        }
      ]
    },
    {
      "cell_type": "code",
      "source": [
        "import shutil\n",
        "\n",
        "malaria_files = os.listdir(MALARIA_PATH)\n",
        "\n",
        "malaria_train_idxs = malaria_idxs[:malaria_train_len]\n",
        "malaria_test_idxs  = malaria_idxs[malaria_train_len:]\n",
        "\n",
        "print(len(malaria_train_idxs), len(malaria_test_idxs))\n",
        "\n",
        "for i, idx in enumerate(malaria_train_idxs): \n",
        "    img_path = os.path.join(MALARIA_PATH, malaria_files[idx])\n",
        "    target_path = os.path.join(TRAIN_PATH, \"MALARIA\")\n",
        "    target_path = os.path.join(target_path, str(i).rjust(4, '0')+\".png\")\n",
        "    shutil.copyfile(img_path, target_path)\n",
        "\n",
        "for i, idx in enumerate(malaria_test_idxs): \n",
        "    img_path = os.path.join(MALARIA_PATH, malaria_files[idx])\n",
        "    target_path = os.path.join(TEST_PATH, \"MALARIA\")\n",
        "    target_path = os.path.join(target_path, str(i).rjust(4, '0')+\".png\")\n",
        "    shutil.copyfile(img_path, target_path)"
      ],
      "metadata": {
        "colab": {
          "base_uri": "https://localhost:8080/"
        },
        "id": "uuZemOA_SZgU",
        "outputId": "f0d3f2ed-8cc2-450e-a251-451b2f8ee2b6"
      },
      "execution_count": null,
      "outputs": [
        {
          "output_type": "stream",
          "name": "stdout",
          "text": [
            "525 25\n"
          ]
        }
      ]
    },
    {
      "cell_type": "code",
      "source": [
        "len(glob.glob(TRAIN_PATH + \"/MALARIA/*\")), len(glob.glob(TEST_PATH + \"/MALARIA/*\"))"
      ],
      "metadata": {
        "id": "madfwXuSX5nc"
      },
      "execution_count": null,
      "outputs": []
    },
    {
      "cell_type": "code",
      "source": [
        "normal_files = os.listdir(NORMAL_PATH)\n",
        "\n",
        "normal_train_idxs = normal_idxs[:normal_train_len]\n",
        "normal_test_idxs  = normal_idxs[normal_train_len:]\n",
        "\n",
        "print(len(normal_train_idxs), len(normal_test_idxs))\n",
        "\n",
        "for i, idx in enumerate(normal_train_idxs): \n",
        "    img_path = os.path.join(NORMAL_PATH, normal_files[idx])\n",
        "    target_path = os.path.join(TRAIN_PATH, \"NORMAL\")\n",
        "    target_path = os.path.join(target_path, str(i).rjust(4, '0')+\".png\")\n",
        "    shutil.copyfile(img_path, target_path)\n",
        "\n",
        "for i, idx in enumerate(normal_test_idxs): \n",
        "    img_path = os.path.join(NORMAL_PATH, normal_files[idx])\n",
        "    target_path = os.path.join(TEST_PATH, \"NORMAL\")\n",
        "    target_path = os.path.join(target_path, str(i).rjust(4, '0')+\".png\")\n",
        "    shutil.copyfile(img_path, target_path)"
      ],
      "metadata": {
        "colab": {
          "base_uri": "https://localhost:8080/"
        },
        "id": "-iYVo35yYJhu",
        "outputId": "77a9c650-21f7-46a1-a3bf-274e1dba8888"
      },
      "execution_count": null,
      "outputs": [
        {
          "output_type": "stream",
          "name": "stdout",
          "text": [
            "1250 500\n"
          ]
        }
      ]
    },
    {
      "cell_type": "code",
      "source": [
        "len(glob.glob(TRAIN_PATH + \"/NORMAL/*\")), len(glob.glob(TEST_PATH + \"/NORMAL/*\"))"
      ],
      "metadata": {
        "colab": {
          "base_uri": "https://localhost:8080/"
        },
        "id": "Ozf0jvnIZM8Q",
        "outputId": "2131dc7d-b86b-498f-c0de-b478d9b309d4"
      },
      "execution_count": null,
      "outputs": [
        {
          "output_type": "execute_result",
          "data": {
            "text/plain": [
              "(1250, 500)"
            ]
          },
          "metadata": {},
          "execution_count": 38
        }
      ]
    },
    {
      "cell_type": "code",
      "source": [
        "IMG_SIZE = (128, 128)\n",
        "BATCH_SIZE = 8"
      ],
      "metadata": {
        "id": "uGAAxdwnysSr"
      },
      "execution_count": null,
      "outputs": []
    },
    {
      "cell_type": "code",
      "source": [
        "len(glob.glob(ROOT_PATH+\"/NORMAL/*.*\") + glob.glob(ROOT_PATH+\"/MALARIA/*.*\"))"
      ],
      "metadata": {
        "colab": {
          "base_uri": "https://localhost:8080/"
        },
        "id": "dYUpT69tCSUa",
        "outputId": "98946ab3-b3eb-457f-84ab-8fc2e00741d5"
      },
      "execution_count": null,
      "outputs": [
        {
          "output_type": "execute_result",
          "data": {
            "text/plain": [
              "36360"
            ]
          },
          "metadata": {},
          "execution_count": 18
        }
      ]
    },
    {
      "cell_type": "code",
      "source": [
        "train_datagen = ImageDataGenerator(\n",
        "    shear_range=0.2,\n",
        "    zoom_range=0.2,\n",
        "    horizontal_flip=True,\n",
        "    vertical_flip=True,\n",
        ")\n",
        "\n",
        "train_generator = train_datagen.flow_from_directory(\n",
        "    directory = ROOT_PATH,\n",
        "    target_size=IMG_SIZE,\n",
        "    batch_size=BATCH_SIZE,\n",
        "    class_mode='binary',\n",
        "    subset='training'\n",
        ")"
      ],
      "metadata": {
        "id": "LZIfv_yxu90W"
      },
      "execution_count": null,
      "outputs": []
    },
    {
      "cell_type": "code",
      "source": [
        "from sys import tracebacklimit\n",
        "train = tf.keras.utils.image_dataset_from_directory(\n",
        "            directory=ROOT_PATH,\n",
        "            labels='inferred',\n",
        "            label_mode='int',\n",
        "            class_names=['NORMAL', 'MALARIA'],\n",
        "            color_mode='rgb',\n",
        "            batch_size=8,\n",
        "            image_size=(128, 128),\n",
        "            shuffle=True,\n",
        "            seed=None,\n",
        "            validation_split=0.1,\n",
        "            subset=\"training\",\n",
        "            interpolation='bilinear',\n",
        "            follow_links=False,\n",
        "            crop_to_aspect_ratio=False\n",
        "        )\n",
        "\n",
        "validation = train = tf.keras.utils.image_dataset_from_directory(\n",
        "                        directory=ROOT_PATH,\n",
        "                        labels='inferred',\n",
        "                        label_mode='int',\n",
        "                        class_names=['NORMAL', 'MALARIA'],\n",
        "                        color_mode='rgb',\n",
        "                        batch_size=8,\n",
        "                        image_size=(128, 128),\n",
        "                        shuffle=True,\n",
        "                        seed=None,\n",
        "                        validation_split=0.1,\n",
        "                        subset=\"training\",\n",
        "                        interpolation='bilinear',\n",
        "                        follow_links=False,\n",
        "                        crop_to_aspect_ratio=False\n",
        "                        \n",
        "                    )"
      ],
      "metadata": {
        "colab": {
          "base_uri": "https://localhost:8080/"
        },
        "id": "Cw42GpAwS_cu",
        "outputId": "4708dda7-6ac0-4e18-d1b0-93422a2855c1"
      },
      "execution_count": null,
      "outputs": [
        {
          "output_type": "stream",
          "name": "stdout",
          "text": [
            "Found 544 files belonging to 2 classes.\n"
          ]
        },
        {
          "output_type": "execute_result",
          "data": {
            "text/plain": [
              "tensorflow.python.data.ops.dataset_ops.BatchDataset"
            ]
          },
          "metadata": {},
          "execution_count": 4
        }
      ]
    },
    {
      "cell_type": "code",
      "source": [
        "ds.as_dataset()"
      ],
      "metadata": {
        "id": "iuqwGYU6Qdny"
      },
      "execution_count": null,
      "outputs": []
    },
    {
      "cell_type": "code",
      "source": [
        "ds.class_names"
      ],
      "metadata": {
        "colab": {
          "base_uri": "https://localhost:8080/"
        },
        "id": "bzH6G1QZ9UqN",
        "outputId": "433f4213-0aee-4754-811a-20774b57befc"
      },
      "execution_count": null,
      "outputs": [
        {
          "output_type": "execute_result",
          "data": {
            "text/plain": [
              "['NORMAL', 'MALARIA']"
            ]
          },
          "metadata": {},
          "execution_count": 90
        }
      ]
    },
    {
      "cell_type": "code",
      "source": [
        "class_names = ds.class_names\n",
        "\n",
        "plt.figure(figsize=(10, 10))\n",
        "for images, labels in ds.take(1):\n",
        "  for i in range(9):\n",
        "    ax = plt.subplot(3, 3, i + 1)\n",
        "    plt.imshow(images[i].numpy().astype(\"uint8\"))\n",
        "    plt.title(class_names[labels[i]])\n",
        "    plt.axis(\"off\")"
      ],
      "metadata": {
        "id": "4tsa9fHWO_nL"
      },
      "execution_count": null,
      "outputs": []
    },
    {
      "cell_type": "code",
      "source": [
        "model = MobileNet(\n",
        "    input_shape=(128, 128, 3),\n",
        "    alpha=1.0,\n",
        "    depth_multiplier=1,\n",
        "    dropout=0.001,\n",
        "    include_top=True,\n",
        "    weights=None,\n",
        "    input_tensor=None,\n",
        "    pooling=None,\n",
        "    classes=2,\n",
        "    classifier_activation='softmax'\n",
        ")"
      ],
      "metadata": {
        "id": "j-z252_0gce2"
      },
      "execution_count": null,
      "outputs": []
    }
  ]
}