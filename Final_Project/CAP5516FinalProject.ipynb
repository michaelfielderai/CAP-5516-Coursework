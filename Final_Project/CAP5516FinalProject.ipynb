{
  "cells": [
    {
      "cell_type": "code",
      "execution_count": null,
      "metadata": {
        "colab": {
          "base_uri": "https://localhost:8080/"
        },
        "id": "h2LR9CxMjBAm",
        "outputId": "f1fcfb45-fbae-4808-81e8-9a87dc5a5901"
      },
      "outputs": [
        {
          "name": "stdout",
          "output_type": "stream",
          "text": [
            "Requirement already satisfied: Augmentor in /usr/local/lib/python3.7/dist-packages (0.2.10)\n",
            "Requirement already satisfied: future>=0.16.0 in /usr/local/lib/python3.7/dist-packages (from Augmentor) (0.16.0)\n",
            "Requirement already satisfied: Pillow>=5.2.0 in /usr/local/lib/python3.7/dist-packages (from Augmentor) (7.1.2)\n",
            "Requirement already satisfied: numpy>=1.11.0 in /usr/local/lib/python3.7/dist-packages (from Augmentor) (1.21.6)\n",
            "Requirement already satisfied: tqdm>=4.9.0 in /usr/local/lib/python3.7/dist-packages (from Augmentor) (4.64.0)\n"
          ]
        }
      ],
      "source": [
        "!pip install Augmentor"
      ]
    },
    {
      "cell_type": "code",
      "execution_count": null,
      "metadata": {
        "colab": {
          "base_uri": "https://localhost:8080/"
        },
        "id": "WpYZrg6Ef12T",
        "outputId": "e1c624bb-8932-4b42-9b41-2639a460747c"
      },
      "outputs": [
        {
          "output_type": "stream",
          "name": "stdout",
          "text": [
            "Mounted at /content/drive\n"
          ]
        }
      ],
      "source": [
        "from google.colab import drive\n",
        "drive.mount('/content/drive')"
      ]
    },
    {
      "cell_type": "code",
      "execution_count": null,
      "metadata": {
        "id": "cOp1iCQDfs33"
      },
      "outputs": [],
      "source": [
        "import numpy as np\n",
        "from matplotlib import pyplot as plt\n",
        "import tensorflow as tf\n",
        "from tensorflow import keras\n",
        "import tensorflow_datasets as tfds\n",
        "from keras.applications.mobilenet import MobileNet\n",
        "import os\n",
        "from keras.preprocessing.image import ImageDataGenerator\n",
        "import glob\n",
        "from keras import layers\n",
        "from keras.applications.mobilenet import MobileNet"
      ]
    },
    {
      "cell_type": "code",
      "execution_count": null,
      "metadata": {
        "id": "XmZXCZ_tSJXe"
      },
      "outputs": [],
      "source": [
        "ROOT_PATH  = \"/content/drive/MyDrive/MalariaDatasetNEW\"\n",
        "TRAIN_PATH = os.path.join(ROOT_PATH, \"train\")\n",
        "TEST_PATH  = os.path.join(ROOT_PATH, \"test\")"
      ]
    },
    {
      "cell_type": "markdown",
      "metadata": {
        "id": "NecUHdbdi7Mz"
      },
      "source": [
        "# Add Augmented Images\n",
        "I needed to sample more augmented images in order to balance the dataset more\n",
        "\n",
        "\n",
        "\n",
        "\n"
      ]
    },
    {
      "cell_type": "code",
      "execution_count": null,
      "metadata": {
        "id": "i9GLBeegjAQk"
      },
      "outputs": [],
      "source": [
        "path_normal  = os.path.join(TRAIN_PATH, \"NORMAL\")\n",
        "path_malaria = os.path.join(TRAIN_PATH, \"MALARIA\")\n",
        "\n",
        "normal_img_total = len(glob.glob(path_normal + \"/*\"))\n",
        "malaria_img_total = len(glob.glob(path_malaria + \"/*\"))"
      ]
    },
    {
      "cell_type": "code",
      "execution_count": null,
      "metadata": {
        "colab": {
          "base_uri": "https://localhost:8080/",
          "height": 35
        },
        "id": "LVyqj2rNDsHL",
        "outputId": "882556b2-1f93-4c07-aefd-805292244bbd"
      },
      "outputs": [
        {
          "data": {
            "application/vnd.google.colaboratory.intrinsic+json": {
              "type": "string"
            },
            "text/plain": [
              "'/content/drive/MyDrive/MalariaDatasetNEW/train/MALARIA'"
            ]
          },
          "execution_count": 278,
          "metadata": {},
          "output_type": "execute_result"
        }
      ],
      "source": [
        "path_malaria"
      ]
    },
    {
      "cell_type": "code",
      "execution_count": null,
      "metadata": {
        "colab": {
          "base_uri": "https://localhost:8080/"
        },
        "id": "i6BONnHAWldz",
        "outputId": "658cdaf6-7397-4b2f-c5a6-758d541fcb36"
      },
      "outputs": [
        {
          "name": "stdout",
          "output_type": "stream",
          "text": [
            "Initialised with 1250 image(s) found.\n",
            "Output directory set to /content/drive/MyDrive/MalariaDatasetNEW/train/NORMAL/output."
          ]
        }
      ],
      "source": [
        "p_1 = Augmentor.Pipeline(path_normal)"
      ]
    },
    {
      "cell_type": "code",
      "execution_count": null,
      "metadata": {
        "id": "GIDvsBonPufA"
      },
      "outputs": [],
      "source": [
        "p_1.zoom(probability=0.5, min_factor=1.1, max_factor=1.5)\n",
        "p_1.flip_random(probability=0.7) "
      ]
    },
    {
      "cell_type": "code",
      "execution_count": null,
      "metadata": {
        "colab": {
          "base_uri": "https://localhost:8080/"
        },
        "id": "TXAGLy4UT-JA",
        "outputId": "4c34655c-ac92-430b-e1e3-74e36dd77753"
      },
      "outputs": [
        {
          "name": "stderr",
          "output_type": "stream",
          "text": [
            "Processing <PIL.Image.Image image mode=RGB size=114x121 at 0x7F05DC5DFF90>: 100%|██████████| 375/375 [00:04<00:00, 88.57 Samples/s]\n"
          ]
        }
      ],
      "source": [
        "p_1.sample(int(normal_img_total * 0.3))"
      ]
    },
    {
      "cell_type": "code",
      "execution_count": null,
      "metadata": {
        "colab": {
          "base_uri": "https://localhost:8080/"
        },
        "id": "uOROi5vZW0HM",
        "outputId": "fe557415-0229-42ad-df4b-a648f89f7846"
      },
      "outputs": [
        {
          "data": {
            "text/plain": [
              "(375, 375)"
            ]
          },
          "execution_count": 65,
          "metadata": {},
          "output_type": "execute_result"
        }
      ],
      "source": [
        "int(normal_img_total * 0.3), len(glob.glob(path_normal + \"/output/*\"))"
      ]
    },
    {
      "cell_type": "code",
      "execution_count": null,
      "metadata": {
        "colab": {
          "base_uri": "https://localhost:8080/"
        },
        "id": "N-LzwDJCWjz-",
        "outputId": "aecc0fb7-0848-4ca2-de45-cf55301f5aae"
      },
      "outputs": [
        {
          "name": "stdout",
          "output_type": "stream",
          "text": [
            "Initialised with 682 image(s) found.\n",
            "Output directory set to /content/drive/MyDrive/MalariaDatasetNEW/project_dataset/train/MALARIA/output."
          ]
        }
      ],
      "source": [
        "p_2 = Augmentor.Pipeline(\"/content/drive/MyDrive/MalariaDatasetNEW/project_dataset/train/MALARIA\")"
      ]
    },
    {
      "cell_type": "code",
      "execution_count": null,
      "metadata": {
        "id": "usqK6FFpWqsX"
      },
      "outputs": [],
      "source": [
        "p_2.zoom(probability=0.7, min_factor=1.1, max_factor=1.5)\n",
        "p_2.flip_random(probability=0.7)"
      ]
    },
    {
      "cell_type": "code",
      "execution_count": null,
      "metadata": {
        "colab": {
          "base_uri": "https://localhost:8080/"
        },
        "id": "cs33Y_pAWuEV",
        "outputId": "d13f6ec4-9135-43e4-b78e-cfa07ebb1ac9"
      },
      "outputs": [
        {
          "name": "stderr",
          "output_type": "stream",
          "text": [
            "Processing <PIL.Image.Image image mode=RGB size=80x82 at 0x7FCC33A654D0>: 100%|██████████| 700/700 [00:12<00:00, 56.55 Samples/s]\n"
          ]
        }
      ],
      "source": [
        " p_2.sample(700)"
      ]
    },
    {
      "cell_type": "code",
      "execution_count": null,
      "metadata": {
        "colab": {
          "base_uri": "https://localhost:8080/"
        },
        "id": "LlI6pcQtVzw2",
        "outputId": "97251757-ac6d-4225-b8c5-3436c0e969b0"
      },
      "outputs": [
        {
          "data": {
            "text/plain": [
              "(157, 525)"
            ]
          },
          "execution_count": 70,
          "metadata": {},
          "output_type": "execute_result"
        }
      ],
      "source": [
        "int(malaria_img_total * 0.3), len(glob.glob(path_malaria+\"/*.*\"))"
      ]
    },
    {
      "cell_type": "code",
      "execution_count": null,
      "metadata": {
        "colab": {
          "base_uri": "https://localhost:8080/"
        },
        "id": "Gp_5FCBYYH-G",
        "outputId": "a3a11037-1d1d-4b6e-99bd-498ca2e1a019"
      },
      "outputs": [
        {
          "data": {
            "text/plain": [
              "683"
            ]
          },
          "execution_count": 71,
          "metadata": {},
          "output_type": "execute_result"
        }
      ],
      "source": [
        "len(os.listdir(TRAIN_PATH + \"/MALARIA\"))"
      ]
    },
    {
      "cell_type": "code",
      "execution_count": null,
      "metadata": {
        "colab": {
          "base_uri": "https://localhost:8080/"
        },
        "id": "7A20vFfHb2vw",
        "outputId": "ef52b69b-5d20-4661-fcf2-39a9b30675f7"
      },
      "outputs": [
        {
          "data": {
            "text/plain": [
              "1626"
            ]
          },
          "execution_count": 72,
          "metadata": {},
          "output_type": "execute_result"
        }
      ],
      "source": [
        "len(os.listdir(TRAIN_PATH + \"/NORMAL\"))"
      ]
    },
    {
      "cell_type": "markdown",
      "metadata": {
        "id": "qSlphwjBpf7Y"
      },
      "source": [
        "# Load Dataset\n",
        "\n",
        "Creates the training and testing generators for the model "
      ]
    },
    {
      "cell_type": "code",
      "execution_count": null,
      "metadata": {
        "id": "Ksjw6frifw1y"
      },
      "outputs": [],
      "source": [
        "ROOT_PATH  = \"/content/drive/MyDrive/MalariaDatasetNEW/project_dataset\"\n",
        "TRAIN_PATH = os.path.join(ROOT_PATH, \"train\") \n",
        "TEST_PATH  = os.path.join(ROOT_PATH, \"test\")"
      ]
    },
    {
      "cell_type": "code",
      "execution_count": null,
      "metadata": {
        "id": "J7gi7fhOgusM"
      },
      "outputs": [],
      "source": [
        "IMG_DIM          = 96\n",
        "IMG_SIZE         = (IMG_DIM, IMG_DIM)\n",
        "TRAIN_BATCH_SIZE = 16\n",
        "TEST_BATCH_SIZE  = len(os.listdir(TEST_PATH + \"/MALARIA\")) + len(os.listdir(TEST_PATH + \"/NORMAL\"))"
      ]
    },
    {
      "cell_type": "code",
      "execution_count": null,
      "metadata": {
        "colab": {
          "base_uri": "https://localhost:8080/"
        },
        "id": "OpdsAUATCOBR",
        "outputId": "1b2f47d7-350f-4281-ab38-8b3bf578fa7d"
      },
      "outputs": [
        {
          "output_type": "execute_result",
          "data": {
            "text/plain": [
              "(1383, 1625)"
            ]
          },
          "metadata": {},
          "execution_count": 5
        }
      ],
      "source": [
        "len(os.listdir(TRAIN_PATH + \"/MALARIA\")), len(os.listdir(TRAIN_PATH + \"/NORMAL\"))"
      ]
    },
    {
      "cell_type": "code",
      "execution_count": null,
      "metadata": {
        "colab": {
          "base_uri": "https://localhost:8080/"
        },
        "id": "3OHfqQNDPmMd",
        "outputId": "ad1ac8c0-dd25-4cb2-ba8f-77de1bcf2dbc"
      },
      "outputs": [
        {
          "output_type": "execute_result",
          "data": {
            "text/plain": [
              "525"
            ]
          },
          "metadata": {},
          "execution_count": 6
        }
      ],
      "source": [
        "TEST_BATCH_SIZE"
      ]
    },
    {
      "cell_type": "code",
      "execution_count": null,
      "metadata": {
        "colab": {
          "base_uri": "https://localhost:8080/"
        },
        "id": "kxABFeSDsX9l",
        "outputId": "0ac00ead-3bc2-43bb-f77b-93bf4944109a"
      },
      "outputs": [
        {
          "output_type": "execute_result",
          "data": {
            "text/plain": [
              "['NORMAL', 'MALARIA']"
            ]
          },
          "metadata": {},
          "execution_count": 7
        }
      ],
      "source": [
        "os.listdir(TEST_PATH)"
      ]
    },
    {
      "cell_type": "code",
      "execution_count": null,
      "metadata": {
        "colab": {
          "base_uri": "https://localhost:8080/"
        },
        "id": "VgT6w9b8n93f",
        "outputId": "9a2350e0-6c95-4778-d201-4cf45f1b059e"
      },
      "outputs": [
        {
          "output_type": "stream",
          "name": "stdout",
          "text": [
            "Found 3007 images belonging to 2 classes.\n",
            "Found 525 images belonging to 2 classes.\n"
          ]
        }
      ],
      "source": [
        "datagen = ImageDataGenerator(rescale=1./255)\n",
        "\n",
        "train_generator = datagen.flow_from_directory(\n",
        "    directory=TRAIN_PATH,\n",
        "    target_size=IMG_SIZE,\n",
        "    color_mode='rgb',\n",
        "    classes=None,\n",
        "    class_mode='binary',\n",
        "    batch_size=TRAIN_BATCH_SIZE,\n",
        "    shuffle=True,\n",
        "    seed=None,\n",
        "    save_to_dir=None,\n",
        "    save_prefix='',\n",
        "    save_format='png',\n",
        "    follow_links=False,\n",
        "    subset=None,\n",
        "    interpolation='nearest'\n",
        ")\n",
        "\n",
        "test_generator = datagen.flow_from_directory(\n",
        "    directory=TEST_PATH,\n",
        "    target_size=IMG_SIZE,\n",
        "    color_mode='rgb',\n",
        "    classes=None,\n",
        "    class_mode='binary',\n",
        "    batch_size=TEST_BATCH_SIZE,\n",
        "    shuffle=True,\n",
        "    seed=None,\n",
        "    save_to_dir=None,\n",
        "    save_prefix='',\n",
        "    save_format='png',\n",
        "    follow_links=False,\n",
        "    subset=None,\n",
        "    interpolation='nearest'\n",
        ")"
      ]
    },
    {
      "cell_type": "code",
      "execution_count": null,
      "metadata": {
        "colab": {
          "base_uri": "https://localhost:8080/"
        },
        "id": "bbXzfbf-re6Q",
        "outputId": "cb31c389-2137-48d0-d83e-6661b7c19ccb"
      },
      "outputs": [
        {
          "output_type": "execute_result",
          "data": {
            "text/plain": [
              "array([0, 0, 0, ..., 1, 1, 1], dtype=int32)"
            ]
          },
          "metadata": {},
          "execution_count": 9
        }
      ],
      "source": [
        "train_generator.classes"
      ]
    },
    {
      "cell_type": "code",
      "execution_count": null,
      "metadata": {
        "id": "Q4m5CaHuq8SJ"
      },
      "outputs": [],
      "source": [
        "from random import randint\n",
        "img, label = next(iter(train_generator))"
      ]
    },
    {
      "cell_type": "code",
      "execution_count": null,
      "metadata": {
        "colab": {
          "base_uri": "https://localhost:8080/"
        },
        "id": "EuRRO2surD-b",
        "outputId": "6fd7e704-a4d6-4852-d2cb-501f79bf29bf"
      },
      "outputs": [
        {
          "output_type": "stream",
          "name": "stdout",
          "text": [
            "(16,)\n"
          ]
        },
        {
          "output_type": "execute_result",
          "data": {
            "text/plain": [
              "<matplotlib.image.AxesImage at 0x7f85aef4ed90>"
            ]
          },
          "metadata": {},
          "execution_count": 11
        },
        {
          "output_type": "display_data",
          "data": {
            "text/plain": [
              "<Figure size 432x288 with 1 Axes>"
            ],
            "image/png": "[encoded data removed]"
          },
          "metadata": {
            "needs_background": "light"
          }
        }
      ],
      "source": [
        "idx = randint(0, TRAIN_BATCH_SIZE-1)\n",
        "print(label.shape)\n",
        "plt.imshow(img[idx,...].squeeze(),cmap='bone')"
      ]
    },
    {
      "cell_type": "markdown",
      "metadata": {
        "id": "4BEVwd-kM_yI"
      },
      "source": [
        "# Tested Failed Code \n",
        "Section of code that was attempted but didn't work."
      ]
    },
    {
      "cell_type": "code",
      "execution_count": null,
      "metadata": {
        "id": "X2lVPB00NMnK"
      },
      "outputs": [],
      "source": [
        "# mobile = MobileNetV3Small(\n",
        "#     input_shape=(IMG_DIM, IMG_DIM, 3),\n",
        "#     alpha=1.0,\n",
        "#     include_top=False,\n",
        "#     weights='imagenet',\n",
        "#     input_tensor=None,\n",
        "#     pooling=None,\n",
        "#     classes=2,\n",
        "    # classifier_activation='softmax'\n",
        "# )\n",
        "\n",
        "# model =tf.keras.applications.resnet50.ResNet50(\n",
        "#     include_top=True,\n",
        "#     weights='imagenet',\n",
        "#     input_tensor=None,\n",
        "#     input_shape=None,\n",
        "#     pooling=None,\n",
        "#     classes=1000,\n",
        "#     **kw\n"
      ]
    },
    {
      "cell_type": "code",
      "execution_count": null,
      "metadata": {
        "id": "e0qcRm3V2hWJ"
      },
      "outputs": [],
      "source": [
        "from tensorflow.keras.applications import ResNet50\n",
        "from tensorflow.python.keras.models import Sequential\n",
        "from tensorflow.python.keras.layers import Dense\n",
        "\n",
        "model = Sequential()\n",
        "\n",
        "# 1st layer as the lumpsum weights from resnet50_weights_tf_dim_ordering_tf_kernels_notop.h5\n",
        "# NOTE that this layer will be set below as NOT TRAINABLE, i.e., use it as is\n",
        "model.add(ResNet50(include_top = False, pooling = RESNET50_POOLING_AVERAGE, weights = 'imagenet'))\n",
        "\n",
        "# 2nd layer as Dense for 2-class classification, i.e., dog or cat using SoftMax activation\n",
        "model.add(Dense(2, activation = \"sigmoid\"))\n",
        "\n",
        "# Say not to train first layer (ResNet) model as it is already trained\n",
        "model.layers[0].trainable = False"
      ]
    },
    {
      "cell_type": "code",
      "execution_count": null,
      "metadata": {
        "id": "QmSlitk9wvlv"
      },
      "outputs": [],
      "source": [
        "from keras import metrics\n",
        "from tensorflow.keras import optimizers \n",
        "\n",
        "# sgd = optimizers.SGD(lr = 0.01, decay = 1e-6, momentum = 0.9)\n",
        "\n",
        "# sgd = tf.keras.optimizers.SGD(lr = 0.01, decay = 1e-6, momentum = 0.9)\n",
        "\n",
        "model.compile(optimizer = \"adam\", loss = tf.keras.metrics.categorical_crossentropy, metrics = LOSS_METRICS)"
      ]
    },
    {
      "cell_type": "markdown",
      "metadata": {
        "id": "hDn1foLJNe6F"
      },
      "source": [
        "# Train Method\n",
        "\n",
        "Provides code that initializes the model and performs the training process"
      ]
    },
    {
      "cell_type": "code",
      "execution_count": null,
      "metadata": {
        "id": "PGlxGZU2tX-5",
        "colab": {
          "base_uri": "https://localhost:8080/"
        },
        "outputId": "7c7063d1-58f0-4d6b-b510-0cede7d0a1fa"
      },
      "outputs": [
        {
          "output_type": "stream",
          "name": "stdout",
          "text": [
            "Downloading data from https://storage.googleapis.com/tensorflow/keras-applications/mobilenet_v2/mobilenet_v2_weights_tf_dim_ordering_tf_kernels_1.0_96_no_top.h5\n",
            "9412608/9406464 [==============================] - 0s 0us/step\n",
            "9420800/9406464 [==============================] - 0s 0us/step\n"
          ]
        }
      ],
      "source": [
        "from tensorflow.keras.applications import MobileNetV3Small\n",
        "\n",
        "# Takes in an RGB image of size 96 x 96\n",
        "IMG_SHAPE = (96, 96, 3)\n",
        "\n",
        "# Inits MobileNetV2 model that is Pre-trained on Image Net \n",
        "base_model = tf.keras.applications.MobileNetV2(input_shape=IMG_SHAPE,\n",
        "                                               include_top=False,\n",
        "                                               weights='imagenet')"
      ]
    },
    {
      "cell_type": "code",
      "execution_count": null,
      "metadata": {
        "id": "3u4eJrOkEU1X"
      },
      "outputs": [],
      "source": [
        "# Makes sure that the base model is frozen during training so that it only trains the last layer\n",
        "base_model.trainable = False"
      ]
    },
    {
      "cell_type": "code",
      "execution_count": null,
      "metadata": {
        "id": "-pjWX5oGEXsy"
      },
      "outputs": [],
      "source": [
        "# Adds a pooling layer and a dense layer that outputs the raw logits of the model\n",
        "global_average_layer = tf.keras.layers.GlobalAveragePooling2D()\n",
        "prediction_layer = tf.keras.layers.Dense(1)"
      ]
    },
    {
      "cell_type": "code",
      "execution_count": null,
      "metadata": {
        "id": "LugLPkUMEfRb"
      },
      "outputs": [],
      "source": [
        "# Combine all the parts together into the final model\n",
        "model = tf.keras.Sequential([\n",
        "  base_model,\n",
        "  global_average_layer,\n",
        "  prediction_layer\n",
        "])"
      ]
    },
    {
      "cell_type": "code",
      "execution_count": null,
      "metadata": {
        "id": "urGt4ZFSEgQO"
      },
      "outputs": [],
      "source": [
        "# Courtesy of: https://blog.roboflow.com/how-to-train-mobilenetv2-on-a-custom-dataset/\n",
        "\n",
        "# Compile the model using RMSprop as the optim and BCE as the loss\n",
        "# Loss takes in the raw logits\n",
        "learning_rate = 1e-4\n",
        "model.compile(optimizer=tf.keras.optimizers.RMSprop(learning_rate=learning_rate),\n",
        "              loss=tf.keras.losses.BinaryCrossentropy(from_logits=True),\n",
        "              metrics=['accuracy'])"
      ]
    },
    {
      "cell_type": "code",
      "execution_count": null,
      "metadata": {
        "colab": {
          "base_uri": "https://localhost:8080/"
        },
        "id": "0YDu1JbCvRnS",
        "outputId": "a676b05b-5459-436e-cacb-abda9bc9313f"
      },
      "outputs": [
        {
          "output_type": "stream",
          "name": "stdout",
          "text": [
            "Epoch 1/20\n",
            "188/188 [==============================] - 211s 1s/step - loss: 0.5552 - accuracy: 0.7157\n",
            "Epoch 2/20\n",
            "188/188 [==============================] - 7s 37ms/step - loss: 0.3259 - accuracy: 0.8859\n",
            "Epoch 3/20\n",
            "188/188 [==============================] - 7s 38ms/step - loss: 0.2460 - accuracy: 0.9125\n",
            "Epoch 4/20\n",
            "188/188 [==============================] - 7s 37ms/step - loss: 0.2016 - accuracy: 0.9292\n",
            "Epoch 5/20\n",
            "188/188 [==============================] - 7s 38ms/step - loss: 0.1745 - accuracy: 0.9401\n",
            "Epoch 6/20\n",
            "188/188 [==============================] - 7s 37ms/step - loss: 0.1576 - accuracy: 0.9485\n",
            "Epoch 7/20\n",
            "188/188 [==============================] - 7s 37ms/step - loss: 0.1447 - accuracy: 0.9504\n",
            "Epoch 8/20\n",
            "188/188 [==============================] - 7s 37ms/step - loss: 0.1344 - accuracy: 0.9561\n",
            "Epoch 9/20\n",
            "188/188 [==============================] - 7s 37ms/step - loss: 0.1257 - accuracy: 0.9578\n",
            "Epoch 10/20\n",
            "188/188 [==============================] - 7s 37ms/step - loss: 0.1196 - accuracy: 0.9591\n",
            "Epoch 11/20\n",
            "188/188 [==============================] - 7s 37ms/step - loss: 0.1139 - accuracy: 0.9611\n",
            "Epoch 12/20\n",
            "188/188 [==============================] - 7s 36ms/step - loss: 0.1090 - accuracy: 0.9641\n",
            "Epoch 13/20\n",
            "188/188 [==============================] - 7s 37ms/step - loss: 0.1051 - accuracy: 0.9661\n",
            "Epoch 14/20\n",
            "188/188 [==============================] - 7s 37ms/step - loss: 0.1018 - accuracy: 0.9647\n",
            "Epoch 15/20\n",
            "188/188 [==============================] - 7s 38ms/step - loss: 0.0982 - accuracy: 0.9667\n",
            "Epoch 16/20\n",
            "188/188 [==============================] - 7s 38ms/step - loss: 0.0952 - accuracy: 0.9677\n",
            "Epoch 17/20\n",
            "188/188 [==============================] - 7s 37ms/step - loss: 0.0929 - accuracy: 0.9691\n",
            "Epoch 18/20\n",
            "188/188 [==============================] - 7s 37ms/step - loss: 0.0904 - accuracy: 0.9701\n",
            "Epoch 19/20\n",
            "188/188 [==============================] - 7s 37ms/step - loss: 0.0884 - accuracy: 0.9691\n",
            "Epoch 20/20\n",
            "188/188 [==============================] - 7s 37ms/step - loss: 0.0864 - accuracy: 0.9694\n"
          ]
        }
      ],
      "source": [
        "# Trains for 20 epochs using the training generator initialized earlier\n",
        "epochs = 20\n",
        "history = model.fit(train_generator,\n",
        "                    epochs=epochs,)"
      ]
    },
    {
      "cell_type": "code",
      "execution_count": null,
      "metadata": {
        "id": "AVDJEE1U1iRa",
        "colab": {
          "base_uri": "https://localhost:8080/"
        },
        "outputId": "6227bde4-7f5d-4033-ab01-12999f8d790c"
      },
      "outputs": [
        {
          "output_type": "stream",
          "name": "stdout",
          "text": [
            "Model: \"sequential\"\n",
            "_________________________________________________________________\n",
            " Layer (type)                Output Shape              Param #   \n",
            "=================================================================\n",
            " mobilenetv2_1.00_96 (Functi  (None, 3, 3, 1280)       2257984   \n",
            " onal)                                                           \n",
            "                                                                 \n",
            " global_average_pooling2d (G  (None, 1280)             0         \n",
            " lobalAveragePooling2D)                                          \n",
            "                                                                 \n",
            " dense (Dense)               (None, 1)                 1281      \n",
            "                                                                 \n",
            "=================================================================\n",
            "Total params: 2,259,265\n",
            "Trainable params: 1,281\n",
            "Non-trainable params: 2,257,984\n",
            "_________________________________________________________________\n"
          ]
        }
      ],
      "source": [
        "# Outputs the params summary of the model\n",
        "model.summary()"
      ]
    },
    {
      "cell_type": "code",
      "execution_count": null,
      "metadata": {
        "id": "cp2cL80TRAqU",
        "colab": {
          "base_uri": "https://localhost:8080/"
        },
        "outputId": "e260dbdd-1c8f-41e6-a072-aee10becdde5"
      },
      "outputs": [
        {
          "output_type": "execute_result",
          "data": {
            "text/plain": [
              "{'accuracy': [0.7156634330749512,\n",
              "  0.8859328031539917,\n",
              "  0.9125373959541321,\n",
              "  0.9291653037071228,\n",
              "  0.940139651298523,\n",
              "  0.9484536051750183,\n",
              "  0.9504489302635193,\n",
              "  0.9561024308204651,\n",
              "  0.9577652215957642,\n",
              "  0.9590954184532166,\n",
              "  0.9610908031463623,\n",
              "  0.9640837907791138,\n",
              "  0.9660791754722595,\n",
              "  0.9647489190101624,\n",
              "  0.9667442440986633,\n",
              "  0.9677419066429138,\n",
              "  0.969072163105011,\n",
              "  0.9700698256492615,\n",
              "  0.969072163105011,\n",
              "  0.9694046974182129],\n",
              " 'loss': [0.5551840662956238,\n",
              "  0.32590624690055847,\n",
              "  0.2459678053855896,\n",
              "  0.20162281394004822,\n",
              "  0.17453718185424805,\n",
              "  0.15760013461112976,\n",
              "  0.14467060565948486,\n",
              "  0.13440002501010895,\n",
              "  0.12573498487472534,\n",
              "  0.11964310705661774,\n",
              "  0.11394879221916199,\n",
              "  0.10895966738462448,\n",
              "  0.1051270067691803,\n",
              "  0.10184020549058914,\n",
              "  0.09822506457567215,\n",
              "  0.09524205327033997,\n",
              "  0.09285299479961395,\n",
              "  0.09035853296518326,\n",
              "  0.08837120234966278,\n",
              "  0.0864487960934639]}"
            ]
          },
          "metadata": {},
          "execution_count": 23
        }
      ],
      "source": [
        "# Shows the dict of the training history per epoch\n",
        "history.history"
      ]
    },
    {
      "cell_type": "code",
      "execution_count": null,
      "metadata": {
        "id": "_as12SvXg5nE",
        "colab": {
          "base_uri": "https://localhost:8080/",
          "height": 313
        },
        "outputId": "1c00cbcc-3fe9-4e30-a56a-4df8c2eec696"
      },
      "outputs": [
        {
          "output_type": "execute_result",
          "data": {
            "text/plain": [
              "Text(0.5, 0, 'Epoch')"
            ]
          },
          "metadata": {},
          "execution_count": 24
        },
        {
          "output_type": "display_data",
          "data": {
            "text/plain": [
              "<Figure size 432x288 with 1 Axes>"
            ],
            "image/png": "[encoded data removed]"
          },
          "metadata": {
            "needs_background": "light"
          }
        }
      ],
      "source": [
        "# Plots the traning loss\n",
        "plt.plot(history.history['loss'])\n",
        "plt.title(\"Loss of MobileNetV2 RGB\")\n",
        "plt.ylabel(\"Loss\")\n",
        "plt.xlabel(\"Epoch\")"
      ]
    },
    {
      "cell_type": "code",
      "execution_count": null,
      "metadata": {
        "id": "WjdCw9Umil7R",
        "colab": {
          "base_uri": "https://localhost:8080/",
          "height": 313
        },
        "outputId": "7388ad9d-9f26-4956-c11d-d2f7be12e250"
      },
      "outputs": [
        {
          "output_type": "execute_result",
          "data": {
            "text/plain": [
              "Text(0.5, 0, 'Epoch')"
            ]
          },
          "metadata": {},
          "execution_count": 25
        },
        {
          "output_type": "display_data",
          "data": {
            "text/plain": [
              "<Figure size 432x288 with 1 Axes>"
            ],
            "image/png": "[encoded data removed]"
          },
          "metadata": {
            "needs_background": "light"
          }
        }
      ],
      "source": [
        "# Plots the training acc\n",
        "plt.plot(history.history['accuracy'])\n",
        "plt.title(\"Accuracy of MobileNetV2 RGB\")\n",
        "plt.ylabel(\"Loss\")\n",
        "plt.xlabel(\"Epoch\")"
      ]
    },
    {
      "cell_type": "markdown",
      "metadata": {
        "id": "f-tlukQdXbfj"
      },
      "source": [
        "# Testing"
      ]
    },
    {
      "cell_type": "code",
      "execution_count": null,
      "metadata": {
        "colab": {
          "base_uri": "https://localhost:8080/"
        },
        "id": "SuNaJOdaKoKJ",
        "outputId": "5a64dc0b-7279-43bc-e257-ad4b0fb284c0"
      },
      "outputs": [
        {
          "output_type": "stream",
          "name": "stdout",
          "text": [
            "Total Accuracy =  0.9904761904761905\n",
            "[ 25 495]\n",
            "Class Accuracies\n",
            "----------------\n",
            "MALARIA: 0.8333333333333334\n",
            "NORMAL: 1.0\n"
          ]
        }
      ],
      "source": [
        "from sklearn.metrics import confusion_matrix\n",
        "\n",
        "# prints \n",
        "\n",
        "for img, label in test_generator:\n",
        "    out = model(img) \n",
        "    # print(out.shape)\n",
        "    # print(out)\n",
        "    # print(label.shape)\n",
        "    break\n",
        "\n",
        "probs = tf.math.sigmoid(out)\n",
        "outs = tf.round(probs)\n",
        "\n",
        "outs = outs.numpy().squeeze()\n",
        "\n",
        "print(f\"Total Accuracy =  {(outs == label).sum() / 525}\")\n",
        "\n",
        "cm = confusion_matrix(outs, label)\n",
        "print(cm.diagonal())\n",
        "\n",
        "acc = cm.diagonal()/cm.sum(axis=1)\n",
        "print(\"Class Accuracies\")\n",
        "print(\"----------------\")\n",
        "print(f\"MALARIA: {acc[0]}\")\n",
        "print(f\"NORMAL: {acc[1]}\")"
      ]
    },
    {
      "cell_type": "code",
      "source": [
        "img.shape"
      ],
      "metadata": {
        "colab": {
          "base_uri": "https://localhost:8080/"
        },
        "id": "3L53dwuAW5JS",
        "outputId": "966750fe-b473-46da-9aa4-cf6a3c26c837"
      },
      "execution_count": null,
      "outputs": [
        {
          "output_type": "execute_result",
          "data": {
            "text/plain": [
              "(525, 96, 96, 3)"
            ]
          },
          "metadata": {},
          "execution_count": 27
        }
      ]
    },
    {
      "cell_type": "code",
      "source": [
        "label.shape"
      ],
      "metadata": {
        "colab": {
          "base_uri": "https://localhost:8080/"
        },
        "id": "151eYv_tW215",
        "outputId": "eb670b8b-087b-453f-c371-3b899e67b186"
      },
      "execution_count": null,
      "outputs": [
        {
          "output_type": "execute_result",
          "data": {
            "text/plain": [
              "(525,)"
            ]
          },
          "metadata": {},
          "execution_count": 28
        }
      ]
    },
    {
      "cell_type": "markdown",
      "metadata": {
        "id": "GZCST4OdcDxj"
      },
      "source": [
        "# TFLITE MODELS\n",
        "\n",
        "Some experimentation with TFLite on the successfully trained model"
      ]
    },
    {
      "cell_type": "code",
      "execution_count": null,
      "metadata": {
        "id": "tGNFYGsAXR5J"
      },
      "outputs": [],
      "source": [
        "ORG_PATH = \"/content/drive/MyDrive/TF_SAVED/model\"\n",
        "NO_QUANT_PATH = \"/content/drive/MyDrive/TF_SAVED/model_no_quant.tflite\" \n",
        "QUANT_PATH = \"/content/drive/MyDrive/TF_SAVED/quant\" "
      ]
    },
    {
      "cell_type": "code",
      "execution_count": null,
      "metadata": {
        "colab": {
          "base_uri": "https://localhost:8080/"
        },
        "id": "DJAHHWUEL9zN",
        "outputId": "13d99417-74c4-40e9-957e-52c6c2ee88a4"
      },
      "outputs": [
        {
          "output_type": "stream",
          "name": "stderr",
          "text": [
            "WARNING:absl:Function `_wrapped_model` contains input name(s) mobilenetv2_1.00_96_input with unsupported characters which will be renamed to mobilenetv2_1_00_96_input in the SavedModel.\n"
          ]
        },
        {
          "output_type": "stream",
          "name": "stdout",
          "text": [
            "INFO:tensorflow:Assets written to: /content/drive/MyDrive/TF_SAVED/model/assets\n"
          ]
        },
        {
          "output_type": "stream",
          "name": "stderr",
          "text": [
            "INFO:tensorflow:Assets written to: /content/drive/MyDrive/TF_SAVED/model/assets\n"
          ]
        }
      ],
      "source": [
        "model.save(ORG_PATH)"
      ]
    },
    {
      "cell_type": "code",
      "execution_count": null,
      "metadata": {
        "colab": {
          "base_uri": "https://localhost:8080/"
        },
        "id": "ZASWOp33cJQU",
        "outputId": "88afddaf-c640-4a88-8516-7975ee5244e3"
      },
      "outputs": [
        {
          "output_type": "stream",
          "name": "stderr",
          "text": [
            "WARNING:absl:Buffer deduplication procedure will be skipped when flatbuffer library is not properly loaded\n"
          ]
        },
        {
          "output_type": "execute_result",
          "data": {
            "text/plain": [
              "8873288"
            ]
          },
          "metadata": {},
          "execution_count": 51
        }
      ],
      "source": [
        "converter = tf.lite.TFLiteConverter.from_saved_model(ORG_PATH)\n",
        "model_no_quant_tflite = converter.convert()\n",
        "\n",
        "open(NO_QUANT_PATH, \"wb\").write(model_no_quant_tflite)"
      ]
    },
    {
      "cell_type": "code",
      "execution_count": null,
      "metadata": {
        "id": "m-Rlmtspct8G"
      },
      "outputs": [],
      "source": [
        "size_tf = os.scandir(ORG_PATH)\n",
        "size_no_quant = os.path.getsize(\"/content/drive/MyDrive/TF_SAVED/model_no_quant.tflite\")"
      ]
    },
    {
      "cell_type": "code",
      "execution_count": null,
      "metadata": {
        "colab": {
          "base_uri": "https://localhost:8080/"
        },
        "id": "w2VrhyTHebiS",
        "outputId": "4d6552ba-ea6e-4de5-a00f-fea2ea6365fe"
      },
      "outputs": [
        {
          "output_type": "stream",
          "name": "stdout",
          "text": [
            "<posix.ScandirIterator object at 0x7fd70056a730>\n",
            "8873288\n"
          ]
        }
      ],
      "source": [
        "print(size_tf)\n",
        "print(size_no_quant)"
      ]
    },
    {
      "cell_type": "code",
      "source": [
        "model.evaluate_tflite(model_no_quant_tflite, x_test, y_test)"
      ],
      "metadata": {
        "colab": {
          "base_uri": "https://localhost:8080/",
          "height": 166
        },
        "id": "MQT_4fyowBVA",
        "outputId": "9367cacb-2d63-438e-c18d-2c5beb370cd8"
      },
      "execution_count": null,
      "outputs": [
        {
          "output_type": "error",
          "ename": "NameError",
          "evalue": "ignored",
          "traceback": [
            "\u001b[0;31m---------------------------------------------------------------------------\u001b[0m",
            "\u001b[0;31mNameError\u001b[0m                                 Traceback (most recent call last)",
            "\u001b[0;32m<ipython-input-60-632c55caffea>\u001b[0m in \u001b[0;36m<module>\u001b[0;34m()\u001b[0m\n\u001b[0;32m----> 1\u001b[0;31m \u001b[0mevaluate_tflite\u001b[0m\u001b[0;34m(\u001b[0m\u001b[0mmodel_no_quant_tflite\u001b[0m\u001b[0;34m,\u001b[0m \u001b[0mx_test\u001b[0m\u001b[0;34m,\u001b[0m \u001b[0my_test\u001b[0m\u001b[0;34m)\u001b[0m\u001b[0;34m\u001b[0m\u001b[0;34m\u001b[0m\u001b[0m\n\u001b[0m",
            "\u001b[0;31mNameError\u001b[0m: name 'evaluate_tflite' is not defined"
          ]
        }
      ]
    }
  ],
  "metadata": {
    "accelerator": "GPU",
    "colab": {
      "provenance": [],
      "machine_shape": "hm"
    },
    "kernelspec": {
      "display_name": "Python 3",
      "name": "python3"
    },
    "language_info": {
      "name": "python"
    }
  },
  "nbformat": 4,
  "nbformat_minor": 0
}